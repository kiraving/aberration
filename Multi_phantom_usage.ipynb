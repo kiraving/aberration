{
 "cells": [
  {
   "cell_type": "code",
   "execution_count": 1,
   "metadata": {},
   "outputs": [
    {
     "name": "stderr",
     "output_type": "stream",
     "text": [
      "Using TensorFlow backend.\n",
      "C:\\Users\\vinograd\\Anaconda3_12\\envs\\phasenet4\\lib\\site-packages\\tensorflow\\python\\framework\\dtypes.py:519: FutureWarning: Passing (type, 1) or '1type' as a synonym of type is deprecated; in a future version of numpy, it will be understood as (type, (1,)) / '(1,)type'.\n",
      "  _np_qint8 = np.dtype([(\"qint8\", np.int8, 1)])\n",
      "C:\\Users\\vinograd\\Anaconda3_12\\envs\\phasenet4\\lib\\site-packages\\tensorflow\\python\\framework\\dtypes.py:520: FutureWarning: Passing (type, 1) or '1type' as a synonym of type is deprecated; in a future version of numpy, it will be understood as (type, (1,)) / '(1,)type'.\n",
      "  _np_quint8 = np.dtype([(\"quint8\", np.uint8, 1)])\n",
      "C:\\Users\\vinograd\\Anaconda3_12\\envs\\phasenet4\\lib\\site-packages\\tensorflow\\python\\framework\\dtypes.py:521: FutureWarning: Passing (type, 1) or '1type' as a synonym of type is deprecated; in a future version of numpy, it will be understood as (type, (1,)) / '(1,)type'.\n",
      "  _np_qint16 = np.dtype([(\"qint16\", np.int16, 1)])\n",
      "C:\\Users\\vinograd\\Anaconda3_12\\envs\\phasenet4\\lib\\site-packages\\tensorflow\\python\\framework\\dtypes.py:522: FutureWarning: Passing (type, 1) or '1type' as a synonym of type is deprecated; in a future version of numpy, it will be understood as (type, (1,)) / '(1,)type'.\n",
      "  _np_quint16 = np.dtype([(\"quint16\", np.uint16, 1)])\n",
      "C:\\Users\\vinograd\\Anaconda3_12\\envs\\phasenet4\\lib\\site-packages\\tensorflow\\python\\framework\\dtypes.py:523: FutureWarning: Passing (type, 1) or '1type' as a synonym of type is deprecated; in a future version of numpy, it will be understood as (type, (1,)) / '(1,)type'.\n",
      "  _np_qint32 = np.dtype([(\"qint32\", np.int32, 1)])\n",
      "C:\\Users\\vinograd\\Anaconda3_12\\envs\\phasenet4\\lib\\site-packages\\tensorflow\\python\\framework\\dtypes.py:528: FutureWarning: Passing (type, 1) or '1type' as a synonym of type is deprecated; in a future version of numpy, it will be understood as (type, (1,)) / '(1,)type'.\n",
      "  np_resource = np.dtype([(\"resource\", np.ubyte, 1)])\n"
     ]
    },
    {
     "name": "stdout",
     "output_type": "stream",
     "text": [
      "GPU Tools False\n"
     ]
    }
   ],
   "source": [
    "from aberration.model import PhaseNet, Config, Data\n",
    "from phasenet.zernike import ZernikeWavefront\n",
    "from csbdeep.utils import normalize, download_and_extract_zip_file\n",
    "import matplotlib.pyplot as plt\n",
    "from pathlib import Path\n",
    "from tifffile import imread\n",
    "import numpy as np\n",
    "from sklearn import metrics\n",
    "\n",
    "import tifffile as tiff\n",
    "from pathlib import Path\n",
    "from skimage.transform import rescale\n"
   ]
  },
  {
   "cell_type": "code",
   "execution_count": 2,
   "metadata": {},
   "outputs": [],
   "source": [
    "zern = [3,5,6,7,8,9,10,11,12,13,14]\n",
    "amp_range = 0.075\n",
    "amps = dict(zip(zern, [amp_range]*len(zern)))\n",
    "ph_basedir = 'images/'\n",
    "c = Config(zernike_amplitude_ranges=amps, psf_na_detection=1.4, psf_units=(0.2,0.068519,0.068519), \n",
    "           psf_n=1.5, psf_lam_detection=0.488, \n",
    "           crop_shape=(32,32,32), \n",
    "           noise_mean=[5,7], noise_snr=[21,34], noise_sigma=[1.5,3], \n",
    "           zernike_order='ansi', jitter = True,\n",
    "           train_batch_size=2,train_steps_per_epoch=5,\n",
    "           train_epochs=5, # quick test\n",
    "           train_learning_rate= 0.0003,\n",
    "           # How to use multiple phantoms:\n",
    "           phantom_params = {'name':'images','filepath':[ph_basedir+'ly17_crop50.tif',ph_basedir+'ly22_crop50.tif']}\n",
    "           # To pass a single image as phantom: phantom_params = {'name':'images','filepath':'your_str_path'}\n",
    "          )\n"
   ]
  },
  {
   "cell_type": "code",
   "execution_count": 4,
   "metadata": {},
   "outputs": [
    {
     "name": "stderr",
     "output_type": "stream",
     "text": [
      "C:\\Users\\vinograd\\AppData\\Roaming\\Python\\Python36\\site-packages\\phasenet\\psf.py:49: RuntimeWarning: invalid value encountered in sqrt\n",
      "  H = np.sqrt(1. * self.n ** 2 - KR3 ** 2 * lam_detection ** 2)\n"
     ]
    }
   ],
   "source": [
    "\n",
    "data = Data(\n",
    "    batch_size           = 5,\n",
    "    amplitude_ranges     = c.zernike_amplitude_ranges,\n",
    "    phantom_params       = c.phantom_params,\n",
    "\n",
    ")\n",
    "psfs, amps = next(data.generator())"
   ]
  },
  {
   "cell_type": "raw",
   "metadata": {},
   "source": [
    "  \"zern\": \"3,5,6,7,8,9,10,11,12,13,14\",\n",
    "  \"train_epochs\": 10000,\n",
    "  \"phantom_filepath\": \"../ly17_crop50.tif\",\n",
    "  \"train_batch_size\": 2,\n",
    "  \"train_steps_per_epoch\": 5,\n",
    "  \"crop_shape\": 32,\n",
    "  \"jitter\": true,\n",
    "  \"outfolder\": \"results/Zern3567891011121314_2507_1740/\",\n",
    "  \"initcrop\": 64,\n",
    "  \"learning_rate\": 0.0001,\n",
    "  \"range\": 0.075,\n",
    "  \"noise_mean\": [\n",
    "    5.0,\n",
    "    7.0\n",
    "  ],\n",
    "  \"noise_snr\": [\n",
    "    21.0,\n",
    "    34.0\n",
    "  ],\n",
    "  \"noise_sigma\": [\n",
    "    1.5,\n",
    "    3.0\n",
    "  ],\n",
    "  \"gaussian_blur_sigma\": null,\n",
    "  \"zernike_order\": \"ansi\",\n",
    "  \"psf_na_detection\": 1.4,\n",
    "  \"psf_lam\": 0.488,\n",
    "  \"psf_unitsxy\": 0.068519,\n",
    "  \"psf_unitsz\": 0.2,\n",
    "  \"psf_n\": 1.5\n"
   ]
  },
  {
   "cell_type": "code",
   "execution_count": 5,
   "metadata": {},
   "outputs": [
    {
     "data": {
      "text/plain": [
       "(5, 50, 50, 50, 1)"
      ]
     },
     "execution_count": 5,
     "metadata": {},
     "output_type": "execute_result"
    }
   ],
   "source": [
    "psfs.shape"
   ]
  },
  {
   "cell_type": "code",
   "execution_count": 4,
   "metadata": {},
   "outputs": [
    {
     "name": "stderr",
     "output_type": "stream",
     "text": [
      "C:\\Users\\vinograd\\AppData\\Roaming\\Python\\Python36\\site-packages\\csbdeep\\models\\base_model.py:149: UserWarning: output path for model already exists, files may be overwritten: C:\\Users\\vinograd\\Documents\\GitHub\\aberration\\experiments\\dual_ly17_ly22_5ep\n",
      "  warnings.warn('output path for model already exists, files may be overwritten: %s' % str(self.logdir.resolve()))\n"
     ]
    }
   ],
   "source": [
    "dir_name = './experiments/dual_ly17_ly22_5ep'\n",
    "model = PhaseNet( config=c, #None,\n",
    "                 name=dir_name, basedir='')\n",
    "import json\n",
    "with open(dir_name+'/config.txt', 'w+') as file:\n",
    "    file.write(json.dumps(vars(c))) \n",
    "\n"
   ]
  },
  {
   "cell_type": "code",
   "execution_count": 7,
   "metadata": {
    "scrolled": true
   },
   "outputs": [
    {
     "name": "stderr",
     "output_type": "stream",
     "text": [
      "C:\\Users\\vinograd\\AppData\\Roaming\\Python\\Python36\\site-packages\\phasenet\\psf.py:49: RuntimeWarning: invalid value encountered in sqrt\n",
      "  H = np.sqrt(1. * self.n ** 2 - KR3 ** 2 * lam_detection ** 2)\n"
     ]
    },
    {
     "name": "stdout",
     "output_type": "stream",
     "text": [
      "Epoch 1/5\n",
      "5/5 [==============================] - 2s 431ms/step - loss: 0.0043 - val_loss: 0.0030\n",
      "Epoch 2/5\n",
      "5/5 [==============================] - 1s 294ms/step - loss: 0.0027 - val_loss: 0.0026\n",
      "Epoch 3/5\n",
      "5/5 [==============================] - 2s 327ms/step - loss: 0.0027 - val_loss: 0.0024\n",
      "Epoch 4/5\n",
      "5/5 [==============================] - 2s 318ms/step - loss: 0.0022 - val_loss: 0.0024\n",
      "Epoch 5/5\n",
      "5/5 [==============================] - 2s 324ms/step - loss: 0.0021 - val_loss: 0.0019\n",
      "\n",
      "Loading network weights from 'weights_best.h5'.\n",
      "Wall time: 34.8 s\n"
     ]
    },
    {
     "data": {
      "text/plain": [
       "<keras.callbacks.History at 0x20429615898>"
      ]
     },
     "execution_count": 7,
     "metadata": {},
     "output_type": "execute_result"
    }
   ],
   "source": [
    "%%time\n",
    "model.train()"
   ]
  },
  {
   "cell_type": "code",
   "execution_count": 8,
   "metadata": {},
   "outputs": [
    {
     "data": {
      "text/plain": [
       "\"plt.figure(figsize=(10,8))\\nplt.plot(history['acc'], marker='*', label='acc')\\nplt.plot(history['val_acc'], '--', marker='*', label='val_acc')\\nplt.xlabel('epoch')\\nplt.ylabel('acc')\\n#plt.yscale('log')\\nplt.legend()\\nplt.title(f'Accuracy ')\\nplt.savefig(dir_name+'acc_'+'.png')\""
      ]
     },
     "execution_count": 8,
     "metadata": {},
     "output_type": "execute_result"
    },
    {
     "data": {
      "image/png": "[encoded data removed]",
      "text/plain": [
       "<Figure size 720x576 with 1 Axes>"
      ]
     },
     "metadata": {
      "needs_background": "light"
     },
     "output_type": "display_data"
    }
   ],
   "source": [
    "history = model.keras_model.history.history\n",
    "\n",
    "fig= plt.figure(figsize=(10,8))\n",
    "plt.plot(history['loss'], marker='*', label='loss')\n",
    "plt.plot(history['val_loss'], '--', marker='*', label='val_loss')\n",
    "plt.xlabel('epoch')\n",
    "#ax.set_xticks(ax.get_xticks()[::2])\n",
    "#plt.set_xticks(plt.get_xticks()+50000)\n",
    "#plt.xticks(fig.get_xticks(), #range(0, int(len(history['loss'])/5000)+1),\n",
    "#           list(str(i*5000+50000) for i in range(0, int(len(history['loss'])/5000)+1)))#, zern_ansi, fontsize=fontsize_small)\n",
    "plt.ylabel('log loss')\n",
    "plt.yscale('log')\n",
    "plt.legend()\n",
    "plt.title(f'Loss')\n",
    "plt.savefig(dir_name+'/loss_'+'.png')\n",
    "\n",
    "\"\"\"plt.figure(figsize=(10,8))\n",
    "plt.plot(history['acc'], marker='*', label='acc')\n",
    "plt.plot(history['val_acc'], '--', marker='*', label='val_acc')\n",
    "plt.xlabel('epoch')\n",
    "plt.ylabel('acc')\n",
    "#plt.yscale('log')\n",
    "plt.legend()\n",
    "plt.title(f'Accuracy ')\n",
    "plt.savefig(dir_name+'acc_'+'.png')\"\"\""
   ]
  },
  {
   "cell_type": "code",
   "execution_count": 5,
   "metadata": {},
   "outputs": [
    {
     "name": "stderr",
     "output_type": "stream",
     "text": [
      "C:\\Users\\vinograd\\AppData\\Roaming\\Python\\Python36\\site-packages\\phasenet\\psf.py:49: RuntimeWarning: invalid value encountered in sqrt\n",
      "  H = np.sqrt(1. * self.n ** 2 - KR3 ** 2 * lam_detection ** 2)\n"
     ]
    }
   ],
   "source": [
    "amps = dict(zip([7], [0.005]))\n",
    "\n",
    "data = Data(\n",
    "        batch_size           = 5,\n",
    "        amplitude_ranges     = amps,\n",
    "        order                = model.config.zernike_order,\n",
    "        normed               = model.config.zernike_normed,\n",
    "        psf_shape            = model.config.psf_shape,\n",
    "        units                = model.config.psf_units,\n",
    "        na_detection         = model.config.psf_na_detection,\n",
    "        lam_detection        = model.config.psf_lam_detection,\n",
    "        n                    = model.config.psf_n,\n",
    "        noise_mean           = model.config.noise_mean,\n",
    "        noise_snr            = model.config.noise_snr,\n",
    "        noise_sigma          = model.config.noise_sigma,\n",
    "        noise_perlin_flag    = model.config.noise_perlin_flag,\n",
    "        crop_shape           = model.config.crop_shape,\n",
    "        jitter               = False,\n",
    "        phantom_params       = model.config.phantom_params,\n",
    "        planes               = model.config.planes,\n",
    "    )\n",
    "psfs, amps = next(data.generator())"
   ]
  },
  {
   "cell_type": "code",
   "execution_count": 11,
   "metadata": {},
   "outputs": [
    {
     "data": {
      "image/png": "[encoded data removed]",
      "text/plain": [
       "<Figure size 432x288 with 1 Axes>"
      ]
     },
     "metadata": {
      "needs_background": "light"
     },
     "output_type": "display_data"
    }
   ],
   "source": [
    "plt.imshow(psfs[3,19],cmap='gray')\n",
    "#contrast can be tuned for better visualization\n",
    "plt.savefig(\"output_images/synthetic_example.png\")"
   ]
  },
  {
   "cell_type": "code",
   "execution_count": null,
   "metadata": {},
   "outputs": [],
   "source": []
  }
 ],
 "metadata": {
  "kernelspec": {
   "display_name": "Python 3",
   "language": "python",
   "name": "python3"
  },
  "language_info": {
   "codemirror_mode": {
    "name": "ipython",
    "version": 3
   },
   "file_extension": ".py",
   "mimetype": "text/x-python",
   "name": "python",
   "nbconvert_exporter": "python",
   "pygments_lexer": "ipython3",
   "version": "3.6.12"
  }
 },
 "nbformat": 4,
 "nbformat_minor": 4
}

{
 "cells": [
  {
   "cell_type": "code",
   "execution_count": 5,
   "metadata": {},
   "outputs": [
    {
     "data": {
      "text/plain": [
       "'3.6.12'"
      ]
     },
     "execution_count": 5,
     "metadata": {},
     "output_type": "execute_result"
    }
   ],
   "source": [
    "#    Virtual env for 'PhaseNet' & 'Aberration' \n",
    "# Package        :   Version\n",
    "import csbdeep      #0.7.2\n",
    "import matplotlib   #3.3.4\n",
    "import pathlib  \n",
    "import tifffile     #2020.9.3\n",
    "import numpy        #1.19.5\n",
    "import sklearn      #0.23.2\n",
    "import skimage      #0.17.2\n",
    "import datetime\n",
    "import keras        #2.2.4\n",
    "import tensorflow   #1.8.0\n",
    "import random\n",
    "import scipy        #1.5.4\n",
    "import secrets\n",
    "import distutils    #3.6.12\n",
    "import warnings\n",
    "import abc\n",
    "import inspect\n",
    "import functools\n",
    "\n",
    "from platform import python_version\n",
    "python_version() #3.6.12"
   ]
  },
  {
   "cell_type": "code",
   "execution_count": 2,
   "metadata": {},
   "outputs": [],
   "source": [
    "packages = [\n",
    "    csbdeep,\n",
    "    matplotlib,\n",
    "    #pathlib,\n",
    "    tifffile,\n",
    "    numpy,\n",
    "    sklearn,\n",
    "    tifffile,\n",
    "    skimage,\n",
    "    #datetime,\n",
    "    keras,\n",
    "    tensorflow,\n",
    "    #random,\n",
    "    scipy,\n",
    "    #secrets,\n",
    "    distutils,\n",
    "    #warnings,\n",
    "    #abc,\n",
    "    #inspect,\n",
    "    #functools\n",
    "]"
   ]
  },
  {
   "cell_type": "code",
   "execution_count": 3,
   "metadata": {},
   "outputs": [
    {
     "name": "stdout",
     "output_type": "stream",
     "text": [
      "<module 'csbdeep' from 'C:\\\\Users\\\\vinograd\\\\AppData\\\\Roaming\\\\Python\\\\Python36\\\\site-packages\\\\csbdeep\\\\__init__.py'>\n",
      "0.7.2\n",
      " \n",
      "<module 'matplotlib' from 'C:\\\\Users\\\\vinograd\\\\AppData\\\\Roaming\\\\Python\\\\Python36\\\\site-packages\\\\matplotlib\\\\__init__.py'>\n",
      "3.3.4\n",
      " \n",
      "<module 'tifffile' from 'C:\\\\Users\\\\vinograd\\\\AppData\\\\Roaming\\\\Python\\\\Python36\\\\site-packages\\\\tifffile\\\\__init__.py'>\n",
      "2020.9.3\n",
      " \n",
      "<module 'numpy' from 'C:\\\\Users\\\\vinograd\\\\AppData\\\\Roaming\\\\Python\\\\Python36\\\\site-packages\\\\numpy\\\\__init__.py'>\n",
      "1.19.5\n",
      " \n",
      "<module 'sklearn' from 'C:\\\\Users\\\\vinograd\\\\Anaconda3_12\\\\envs\\\\phasenet4\\\\lib\\\\site-packages\\\\sklearn\\\\__init__.py'>\n",
      "0.23.2\n",
      " \n",
      "<module 'tifffile' from 'C:\\\\Users\\\\vinograd\\\\AppData\\\\Roaming\\\\Python\\\\Python36\\\\site-packages\\\\tifffile\\\\__init__.py'>\n",
      "2020.9.3\n",
      " \n",
      "<module 'skimage' from 'C:\\\\Users\\\\vinograd\\\\AppData\\\\Roaming\\\\Python\\\\Python36\\\\site-packages\\\\skimage\\\\__init__.py'>\n",
      "0.17.2\n",
      " \n",
      "<module 'keras' from 'C:\\\\Users\\\\vinograd\\\\Anaconda3_12\\\\envs\\\\phasenet4\\\\lib\\\\site-packages\\\\keras\\\\__init__.py'>\n",
      "2.2.4\n",
      " \n",
      "<module 'tensorflow' from 'C:\\\\Users\\\\vinograd\\\\Anaconda3_12\\\\envs\\\\phasenet4\\\\lib\\\\site-packages\\\\tensorflow\\\\__init__.py'>\n",
      "1.8.0\n",
      " \n",
      "<module 'scipy' from 'C:\\\\Users\\\\vinograd\\\\AppData\\\\Roaming\\\\Python\\\\Python36\\\\site-packages\\\\scipy\\\\__init__.py'>\n",
      "1.5.4\n",
      " \n",
      "<module 'distutils' from 'C:\\\\Users\\\\vinograd\\\\Anaconda3_12\\\\envs\\\\phasenet4\\\\lib\\\\distutils\\\\__init__.py'>\n",
      "3.6.12\n",
      " \n"
     ]
    }
   ],
   "source": [
    "for p in packages:\n",
    "    print(p)\n",
    "    print(p.__version__)  \n",
    "    print(\" \")\n"
   ]
  },
  {
   "cell_type": "code",
   "execution_count": null,
   "metadata": {},
   "outputs": [],
   "source": []
  },
  {
   "cell_type": "code",
   "execution_count": 4,
   "metadata": {},
   "outputs": [],
   "source": [
    "#    Virtual env for 'Flowdec'\n",
    "import matplotlib   # 3.5.2\n",
    "import tifffile     # 2021.11.2\n",
    "import numpy        # 1.21.6\n",
    "#import sklearn     #\n",
    "import skimage      # 0.19.3\n",
    "import keras        # 2.9.0\n",
    "import tensorflow   # 2.9.1\n",
    "import scipy        # 1.7.3\n",
    "import flowdec "
   ]
  },
  {
   "cell_type": "code",
   "execution_count": 9,
   "metadata": {},
   "outputs": [
    {
     "data": {
      "text/plain": [
       "'3.7.13'"
      ]
     },
     "execution_count": 9,
     "metadata": {},
     "output_type": "execute_result"
    }
   ],
   "source": [
    "from platform import python_version\n",
    "python_version() # 3.7.13"
   ]
  },
  {
   "cell_type": "code",
   "execution_count": 6,
   "metadata": {},
   "outputs": [
    {
     "name": "stdout",
     "output_type": "stream",
     "text": [
      "<module 'matplotlib' from 'C:\\\\Users\\\\vinograd\\\\anaconda3_july22\\\\envs\\\\flowdec\\\\lib\\\\site-packages\\\\matplotlib\\\\__init__.py'>\n",
      "3.5.2\n",
      " \n",
      "<module 'tifffile' from 'C:\\\\Users\\\\vinograd\\\\anaconda3_july22\\\\envs\\\\flowdec\\\\lib\\\\site-packages\\\\tifffile\\\\__init__.py'>\n",
      "2021.11.2\n",
      " \n",
      "<module 'numpy' from 'C:\\\\Users\\\\vinograd\\\\anaconda3_july22\\\\envs\\\\flowdec\\\\lib\\\\site-packages\\\\numpy\\\\__init__.py'>\n",
      "1.21.6\n",
      " \n",
      "<module 'skimage' from 'C:\\\\Users\\\\vinograd\\\\anaconda3_july22\\\\envs\\\\flowdec\\\\lib\\\\site-packages\\\\skimage\\\\__init__.py'>\n",
      "0.19.3\n",
      " \n",
      "<module 'keras' from 'C:\\\\Users\\\\vinograd\\\\anaconda3_july22\\\\envs\\\\flowdec\\\\lib\\\\site-packages\\\\keras\\\\__init__.py'>\n",
      "2.9.0\n",
      " \n",
      "<module 'tensorflow' from 'C:\\\\Users\\\\vinograd\\\\anaconda3_july22\\\\envs\\\\flowdec\\\\lib\\\\site-packages\\\\tensorflow\\\\__init__.py'>\n",
      "2.9.1\n",
      " \n",
      "<module 'scipy' from 'C:\\\\Users\\\\vinograd\\\\anaconda3_july22\\\\envs\\\\flowdec\\\\lib\\\\site-packages\\\\scipy\\\\__init__.py'>\n",
      "1.7.3\n",
      " \n"
     ]
    }
   ],
   "source": [
    "packages = [\n",
    "    matplotlib,\n",
    "tifffile,\n",
    "numpy,\n",
    "#import sklearn\n",
    "skimage,\n",
    "keras,\n",
    "tensorflow,\n",
    "scipy#,\n",
    "#flowdec \n",
    "]\n",
    "\n",
    "for p in packages:\n",
    "    print(p)\n",
    "    print(p.__version__)  \n",
    "    print(\" \")\n"
   ]
  },
  {
   "cell_type": "code",
   "execution_count": null,
   "metadata": {},
   "outputs": [],
   "source": []
  }
 ],
 "metadata": {
  "kernelspec": {
   "display_name": "Python 3",
   "language": "python",
   "name": "python3"
  },
  "language_info": {
   "codemirror_mode": {
    "name": "ipython",
    "version": 3
   },
   "file_extension": ".py",
   "mimetype": "text/x-python",
   "name": "python",
   "nbconvert_exporter": "python",
   "pygments_lexer": "ipython3",
   "version": "3.6.12"
  }
 },
 "nbformat": 4,
 "nbformat_minor": 4
}
